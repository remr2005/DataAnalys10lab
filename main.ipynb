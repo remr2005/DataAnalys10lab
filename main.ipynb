{
 "cells": [
  {
   "cell_type": "markdown",
   "metadata": {},
   "source": [
    "Выбрать на kaggle.com датасет с неразмеченными данными.\n",
    "\n",
    "Перевести все значения признаков в числа и шкалировать.\n",
    "\n",
    "Произвести кластеризацию по методу k-средних на оптимальное для этого датасета число кластеров.\n",
    "\n",
    "Произвести восходящую кластеризацию. \n",
    "\n",
    "Сравнить результаты\n"
   ]
  },
  {
   "cell_type": "code",
   "execution_count": null,
   "metadata": {},
   "outputs": [
    {
     "data": {
      "text/plain": [
       "'\\na\\ns\\n'"
      ]
     },
     "execution_count": 1,
     "metadata": {},
     "output_type": "execute_result"
    }
   ],
   "source": [
    "a1 = \"\"\"\n",
    "##1##\n",
    "##1##\n",
    "##1##\n",
    "##1##\n",
    "##1##\n",
    "\"\"\"\n",
    "a1 = \"\"\"\n",
    "##1##\n",
    "#11##\n",
    "1#1##\n",
    "##1##\n",
    "##1##\n",
    "\"\"\"\n",
    "a1 = \"\"\"\n",
    "##1##\n",
    "##1##\n",
    "##1##\n",
    "##1##\n",
    "#####\n",
    "\"\"\""
   ]
  }
 ],
 "metadata": {
  "kernelspec": {
   "display_name": "Python 3",
   "language": "python",
   "name": "python3"
  },
  "language_info": {
   "codemirror_mode": {
    "name": "ipython",
    "version": 3
   },
   "file_extension": ".py",
   "mimetype": "text/x-python",
   "name": "python",
   "nbconvert_exporter": "python",
   "pygments_lexer": "ipython3",
   "version": "3.10.0"
  }
 },
 "nbformat": 4,
 "nbformat_minor": 2
}
